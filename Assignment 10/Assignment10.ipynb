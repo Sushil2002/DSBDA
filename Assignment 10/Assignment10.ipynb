{
 "cells": [
  {
   "cell_type": "code",
   "execution_count": 3,
   "id": "04991609",
   "metadata": {},
   "outputs": [],
   "source": [
    "import nltk,string\n",
    "from nltk.tokenize import word_tokenize\n",
    "from nltk.corpus import stopwords"
   ]
  },
  {
   "cell_type": "code",
   "execution_count": 4,
   "id": "c1ae1e7f",
   "metadata": {},
   "outputs": [],
   "source": [
    "from nltk.stem import PorterStemmer"
   ]
  },
  {
   "cell_type": "code",
   "execution_count": 5,
   "id": "4935dfd4",
   "metadata": {},
   "outputs": [],
   "source": [
    "from nltk.stem import WordNetLemmatizer"
   ]
  },
  {
   "cell_type": "code",
   "execution_count": 6,
   "id": "f1ee5606",
   "metadata": {},
   "outputs": [],
   "source": [
    "text1 = '''Data science is an interdisciplinary academic field that uses statistics, scientific computing, scientific methods, processes, algorithms and systems to extract or extrapolate knowledge and insights from noisy,structured, and unstructured data. Data science also integrates domain knowledge from the underlying applicationdomain (e.g., natural sciences, information technology, and medicine). Data science is multifaceted and can bedescribed as a science, a research paradigm, a research method, a discipline, a workflow, and a profession.'''\n",
    "\n",
    "text2 = '''Data science is the study of data to extract meaningful insights for business. It is a multidisciplinary approach that combines principles and practices from the fields of mathematics, statistics, artificial intelligence, and computer engineering to analyze large amounts of data.'''"
   ]
  },
  {
   "cell_type": "code",
   "execution_count": 7,
   "id": "e8367018",
   "metadata": {},
   "outputs": [
    {
     "name": "stdout",
     "output_type": "stream",
     "text": [
      "Data science is an interdisciplinary academic field that uses statistics, scientific computing, scientific methods, processes, algorithms and systems to extract or extrapolate knowledge and insights from noisy,structured, and unstructured data. Data science also integrates domain knowledge from the underlying applicationdomain (e.g., natural sciences, information technology, and medicine). Data science is multifaceted and can bedescribed as a science, a research paradigm, a research method, a discipline, a workflow, and a profession.\n"
     ]
    }
   ],
   "source": [
    "print(text1)"
   ]
  },
  {
   "cell_type": "code",
   "execution_count": 8,
   "id": "cc869454",
   "metadata": {},
   "outputs": [
    {
     "name": "stdout",
     "output_type": "stream",
     "text": [
      "Data science is the study of data to extract meaningful insights for business. It is a multidisciplinary approach that combines principles and practices from the fields of mathematics, statistics, artificial intelligence, and computer engineering to analyze large amounts of data.\n"
     ]
    }
   ],
   "source": [
    "print(text2)"
   ]
  },
  {
   "cell_type": "code",
   "execution_count": 9,
   "id": "1c245414",
   "metadata": {},
   "outputs": [],
   "source": [
    "token1=word_tokenize(text1)"
   ]
  },
  {
   "cell_type": "code",
   "execution_count": 11,
   "id": "dcdbd851",
   "metadata": {},
   "outputs": [
    {
     "name": "stdout",
     "output_type": "stream",
     "text": [
      "['Data', 'science', 'is', 'an', 'interdisciplinary', 'academic', 'field', 'that', 'uses', 'statistics', ',', 'scientific', 'computing', ',', 'scientific', 'methods', ',', 'processes', ',', 'algorithms', 'and', 'systems', 'to', 'extract', 'or', 'extrapolate', 'knowledge', 'and', 'insights', 'from', 'noisy', ',', 'structured', ',', 'and', 'unstructured', 'data', '.', 'Data', 'science', 'also', 'integrates', 'domain', 'knowledge', 'from', 'the', 'underlying', 'applicationdomain', '(', 'e.g.', ',', 'natural', 'sciences', ',', 'information', 'technology', ',', 'and', 'medicine', ')', '.', 'Data', 'science', 'is', 'multifaceted', 'and', 'can', 'bedescribed', 'as', 'a', 'science', ',', 'a', 'research', 'paradigm', ',', 'a', 'research', 'method', ',', 'a', 'discipline', ',', 'a', 'workflow', ',', 'and', 'a', 'profession', '.']\n"
     ]
    }
   ],
   "source": [
    "print(token1)"
   ]
  },
  {
   "cell_type": "code",
   "execution_count": 12,
   "id": "5e2875d0",
   "metadata": {},
   "outputs": [],
   "source": [
    "token2=word_tokenize(text2)"
   ]
  },
  {
   "cell_type": "code",
   "execution_count": 13,
   "id": "10e255b7",
   "metadata": {},
   "outputs": [
    {
     "name": "stdout",
     "output_type": "stream",
     "text": [
      "['Data', 'science', 'is', 'the', 'study', 'of', 'data', 'to', 'extract', 'meaningful', 'insights', 'for', 'business', '.', 'It', 'is', 'a', 'multidisciplinary', 'approach', 'that', 'combines', 'principles', 'and', 'practices', 'from', 'the', 'fields', 'of', 'mathematics', ',', 'statistics', ',', 'artificial', 'intelligence', ',', 'and', 'computer', 'engineering', 'to', 'analyze', 'large', 'amounts', 'of', 'data', '.']\n"
     ]
    }
   ],
   "source": [
    "print(token2)"
   ]
  },
  {
   "cell_type": "code",
   "execution_count": 14,
   "id": "c2603f18",
   "metadata": {},
   "outputs": [
    {
     "name": "stdout",
     "output_type": "stream",
     "text": [
      "['Data', 'science', 'is', 'an', 'interdisciplinary', 'academic', 'field', 'that', 'uses', 'statistics', 'scientific', 'computing', 'scientific', 'methods', 'processes', 'algorithms', 'and', 'systems', 'to', 'extract', 'or', 'extrapolate', 'knowledge', 'and', 'insights', 'from', 'noisy', 'structured', 'and', 'unstructured', 'data', 'Data', 'science', 'also', 'integrates', 'domain', 'knowledge', 'from', 'the', 'underlying', 'applicationdomain', 'e.g.', 'natural', 'sciences', 'information', 'technology', 'and', 'medicine', 'Data', 'science', 'is', 'multifaceted', 'and', 'can', 'bedescribed', 'as', 'a', 'science', 'a', 'research', 'paradigm', 'a', 'research', 'method', 'a', 'discipline', 'a', 'workflow', 'and', 'a', 'profession']\n"
     ]
    }
   ],
   "source": [
    "newtoken=[]\n",
    "for i in token1:\n",
    "    if i not in ['(',')',',','.']:\n",
    "        newtoken.append(i)\n",
    "token1=newtoken\n",
    "print(token1)"
   ]
  },
  {
   "cell_type": "code",
   "execution_count": 16,
   "id": "2f740840",
   "metadata": {},
   "outputs": [
    {
     "name": "stdout",
     "output_type": "stream",
     "text": [
      "['Data', 'science', 'is', 'the', 'study', 'of', 'data', 'to', 'extract', 'meaningful', 'insights', 'for', 'business', 'It', 'is', 'a', 'multidisciplinary', 'approach', 'that', 'combines', 'principles', 'and', 'practices', 'from', 'the', 'fields', 'of', 'mathematics', 'statistics', 'artificial', 'intelligence', 'and', 'computer', 'engineering', 'to', 'analyze', 'large', 'amounts', 'of', 'data']\n"
     ]
    }
   ],
   "source": [
    "newtoken=[]\n",
    "for i in token2:\n",
    "    if i not in ['(',')',',','.']:\n",
    "        newtoken.append(i)\n",
    "token2=newtoken\n",
    "print(token2)"
   ]
  },
  {
   "cell_type": "code",
   "execution_count": 17,
   "id": "fa94adb5",
   "metadata": {},
   "outputs": [
    {
     "name": "stdout",
     "output_type": "stream",
     "text": [
      "[('Data', 'NNP'), ('science', 'NN'), ('is', 'VBZ'), ('an', 'DT'), ('interdisciplinary', 'JJ'), ('academic', 'JJ'), ('field', 'NN'), ('that', 'WDT'), ('uses', 'VBZ'), ('statistics', 'NNS'), ('scientific', 'JJ'), ('computing', 'VBG'), ('scientific', 'JJ'), ('methods', 'NNS'), ('processes', 'VBZ'), ('algorithms', 'JJ'), ('and', 'CC'), ('systems', 'NNS'), ('to', 'TO'), ('extract', 'VB'), ('or', 'CC'), ('extrapolate', 'VB'), ('knowledge', 'NN'), ('and', 'CC'), ('insights', 'NNS'), ('from', 'IN'), ('noisy', 'NN'), ('structured', 'VBN'), ('and', 'CC'), ('unstructured', 'JJ'), ('data', 'NNS'), ('Data', 'NNP'), ('science', 'NN'), ('also', 'RB'), ('integrates', 'VBZ'), ('domain', 'VBP'), ('knowledge', 'NN'), ('from', 'IN'), ('the', 'DT'), ('underlying', 'VBG'), ('applicationdomain', 'NN'), ('e.g.', 'JJ'), ('natural', 'JJ'), ('sciences', 'NNS'), ('information', 'NN'), ('technology', 'NN'), ('and', 'CC'), ('medicine', 'NN'), ('Data', 'NNP'), ('science', 'NN'), ('is', 'VBZ'), ('multifaceted', 'VBN'), ('and', 'CC'), ('can', 'MD'), ('bedescribed', 'VB'), ('as', 'IN'), ('a', 'DT'), ('science', 'NN'), ('a', 'DT'), ('research', 'NN'), ('paradigm', 'NN'), ('a', 'DT'), ('research', 'NN'), ('method', 'NN'), ('a', 'DT'), ('discipline', 'NN'), ('a', 'DT'), ('workflow', 'NN'), ('and', 'CC'), ('a', 'DT'), ('profession', 'NN')]\n"
     ]
    }
   ],
   "source": [
    "print(nltk.pos_tag(token1))"
   ]
  },
  {
   "cell_type": "code",
   "execution_count": 18,
   "id": "58c11541",
   "metadata": {},
   "outputs": [
    {
     "name": "stdout",
     "output_type": "stream",
     "text": [
      "[('Data', 'NNP'), ('science', 'NN'), ('is', 'VBZ'), ('the', 'DT'), ('study', 'NN'), ('of', 'IN'), ('data', 'NNS'), ('to', 'TO'), ('extract', 'VB'), ('meaningful', 'JJ'), ('insights', 'NNS'), ('for', 'IN'), ('business', 'NN'), ('It', 'PRP'), ('is', 'VBZ'), ('a', 'DT'), ('multidisciplinary', 'JJ'), ('approach', 'NN'), ('that', 'WDT'), ('combines', 'VBZ'), ('principles', 'NNS'), ('and', 'CC'), ('practices', 'NNS'), ('from', 'IN'), ('the', 'DT'), ('fields', 'NNS'), ('of', 'IN'), ('mathematics', 'NNS'), ('statistics', 'NNS'), ('artificial', 'JJ'), ('intelligence', 'NN'), ('and', 'CC'), ('computer', 'NN'), ('engineering', 'NN'), ('to', 'TO'), ('analyze', 'VB'), ('large', 'JJ'), ('amounts', 'NNS'), ('of', 'IN'), ('data', 'NNS')]\n"
     ]
    }
   ],
   "source": [
    "print(nltk.pos_tag(token2))"
   ]
  },
  {
   "cell_type": "code",
   "execution_count": 19,
   "id": "8215c7ab",
   "metadata": {},
   "outputs": [
    {
     "name": "stdout",
     "output_type": "stream",
     "text": [
      "{'have', 'your', 'they', 'yourself', 'who', 'needn', 'from', 'o', 'her', 'if', 'weren', 'doesn', 'a', 'there', 'which', 'very', 'yours', 'only', 'while', 'or', 'and', 'such', 'as', \"hadn't\", \"haven't\", 'off', 'hers', 'for', 'between', 'this', 'their', 'where', 'more', 'up', 'were', 's', 'other', \"she's\", 'what', 'mightn', 'ain', 'at', 'isn', 'all', 'm', \"you've\", 'hasn', \"mightn't\", 'few', 'its', 'will', 'should', 'me', \"wouldn't\", 'any', 'about', 'above', 'herself', \"couldn't\", \"didn't\", 'through', \"won't\", 'shan', 'been', \"needn't\", 'both', 'wouldn', 'his', 'the', 'll', \"don't\", 'don', 'doing', 'because', 'himself', 'these', \"aren't\", 'with', \"weren't\", 'down', 'against', 'our', 'haven', \"it's\", 'had', 'in', 'has', 'by', 'but', 'are', 'until', 'i', 't', 're', 'you', 'those', 'couldn', 'not', 'theirs', 'themselves', 'same', 'be', \"isn't\", 'won', 'to', 'of', \"hasn't\", 'into', 'can', 'd', \"wasn't\", 'didn', 'we', 'that', 'is', 'each', 'ma', 'itself', 'on', 'ourselves', 'having', 'again', 'wasn', 'he', 'do', 'mustn', 'just', 'over', 'then', \"shouldn't\", 'own', 'further', 'after', 'does', 'being', 'them', 'under', 'myself', 'aren', \"you're\", 'some', 'during', 'out', 'than', 'now', 'him', 'was', 'too', 'my', 'how', 'before', 'why', 'an', 'yourselves', 'y', \"mustn't\", \"you'd\", 'did', \"you'll\", \"that'll\", 'most', \"doesn't\", 'am', 'once', 'it', 'here', \"shan't\", \"should've\", 've', 'when', 'nor', 'shouldn', 'so', 'hadn', 'ours', 'whom', 'no', 'she', 'below'}\n"
     ]
    }
   ],
   "source": [
    "stop_words=set(stopwords.words('english'))\n",
    "print(stop_words)"
   ]
  },
  {
   "cell_type": "code",
   "execution_count": 20,
   "id": "fee49362",
   "metadata": {},
   "outputs": [
    {
     "name": "stdout",
     "output_type": "stream",
     "text": [
      "['Data', 'science', 'interdisciplinary', 'academic', 'field', 'uses', 'statistics', 'scientific', 'computing', 'scientific', 'methods', 'processes', 'algorithms', 'systems', 'extract', 'extrapolate', 'knowledge', 'insights', 'noisy', 'structured', 'unstructured', 'data', 'Data', 'science', 'also', 'integrates', 'domain', 'knowledge', 'underlying', 'applicationdomain', 'e.g.', 'natural', 'sciences', 'information', 'technology', 'medicine', 'Data', 'science', 'multifaceted', 'bedescribed', 'science', 'research', 'paradigm', 'research', 'method', 'discipline', 'workflow', 'profession']\n"
     ]
    }
   ],
   "source": [
    "remove_stop_words=[]\n",
    "for i in token1:\n",
    "    if i not in stop_words:\n",
    "        remove_stop_words.append(i)\n",
    "token1=remove_stop_words\n",
    "print(token1)"
   ]
  },
  {
   "cell_type": "code",
   "execution_count": 21,
   "id": "f1c97232",
   "metadata": {},
   "outputs": [
    {
     "name": "stdout",
     "output_type": "stream",
     "text": [
      "['Data', 'science', 'study', 'data', 'extract', 'meaningful', 'insights', 'business', 'It', 'multidisciplinary', 'approach', 'combines', 'principles', 'practices', 'fields', 'mathematics', 'statistics', 'artificial', 'intelligence', 'computer', 'engineering', 'analyze', 'large', 'amounts', 'data']\n"
     ]
    }
   ],
   "source": [
    "remove_stop_words=[]\n",
    "for i in token2:\n",
    "    if i not in stop_words:\n",
    "        remove_stop_words.append(i)\n",
    "token2=remove_stop_words\n",
    "print(token2)"
   ]
  },
  {
   "cell_type": "code",
   "execution_count": 22,
   "id": "00ee3669",
   "metadata": {},
   "outputs": [],
   "source": [
    "st=PorterStemmer()"
   ]
  },
  {
   "cell_type": "code",
   "execution_count": 24,
   "id": "e655dd7a",
   "metadata": {},
   "outputs": [
    {
     "name": "stdout",
     "output_type": "stream",
     "text": [
      "Data  :  data\n",
      "science  :  scienc\n",
      "interdisciplinary  :  interdisciplinari\n",
      "academic  :  academ\n",
      "field  :  field\n",
      "uses  :  use\n",
      "statistics  :  statist\n",
      "scientific  :  scientif\n",
      "computing  :  comput\n",
      "scientific  :  scientif\n",
      "methods  :  method\n",
      "processes  :  process\n",
      "algorithms  :  algorithm\n",
      "systems  :  system\n",
      "extract  :  extract\n",
      "extrapolate  :  extrapol\n",
      "knowledge  :  knowledg\n",
      "insights  :  insight\n",
      "noisy  :  noisi\n",
      "structured  :  structur\n",
      "unstructured  :  unstructur\n",
      "data  :  data\n",
      "Data  :  data\n",
      "science  :  scienc\n",
      "also  :  also\n",
      "integrates  :  integr\n",
      "domain  :  domain\n",
      "knowledge  :  knowledg\n",
      "underlying  :  underli\n",
      "applicationdomain  :  applicationdomain\n",
      "e.g.  :  e.g.\n",
      "natural  :  natur\n",
      "sciences  :  scienc\n",
      "information  :  inform\n",
      "technology  :  technolog\n",
      "medicine  :  medicin\n",
      "Data  :  data\n",
      "science  :  scienc\n",
      "multifaceted  :  multifacet\n",
      "bedescribed  :  bedescrib\n",
      "science  :  scienc\n",
      "research  :  research\n",
      "paradigm  :  paradigm\n",
      "research  :  research\n",
      "method  :  method\n",
      "discipline  :  disciplin\n",
      "workflow  :  workflow\n",
      "profession  :  profess\n"
     ]
    }
   ],
   "source": [
    "for w in token1:\n",
    "    print(w,\" : \",st.stem(w))"
   ]
  },
  {
   "cell_type": "code",
   "execution_count": 25,
   "id": "bae4a5d7",
   "metadata": {},
   "outputs": [],
   "source": [
    "lm=WordNetLemmatizer()"
   ]
  },
  {
   "cell_type": "code",
   "execution_count": 26,
   "id": "20f85135",
   "metadata": {},
   "outputs": [
    {
     "name": "stdout",
     "output_type": "stream",
     "text": [
      "Data  :  Data\n",
      "science  :  science\n",
      "interdisciplinary  :  interdisciplinary\n",
      "academic  :  academic\n",
      "field  :  field\n",
      "uses  :  us\n",
      "statistics  :  statistic\n",
      "scientific  :  scientific\n",
      "computing  :  computing\n",
      "scientific  :  scientific\n",
      "methods  :  method\n",
      "processes  :  process\n",
      "algorithms  :  algorithm\n",
      "systems  :  system\n",
      "extract  :  extract\n",
      "extrapolate  :  extrapolate\n",
      "knowledge  :  knowledge\n",
      "insights  :  insight\n",
      "noisy  :  noisy\n",
      "structured  :  structured\n",
      "unstructured  :  unstructured\n",
      "data  :  data\n",
      "Data  :  Data\n",
      "science  :  science\n",
      "also  :  also\n",
      "integrates  :  integrates\n",
      "domain  :  domain\n",
      "knowledge  :  knowledge\n",
      "underlying  :  underlying\n",
      "applicationdomain  :  applicationdomain\n",
      "e.g.  :  e.g.\n",
      "natural  :  natural\n",
      "sciences  :  science\n",
      "information  :  information\n",
      "technology  :  technology\n",
      "medicine  :  medicine\n",
      "Data  :  Data\n",
      "science  :  science\n",
      "multifaceted  :  multifaceted\n",
      "bedescribed  :  bedescribed\n",
      "science  :  science\n",
      "research  :  research\n",
      "paradigm  :  paradigm\n",
      "research  :  research\n",
      "method  :  method\n",
      "discipline  :  discipline\n",
      "workflow  :  workflow\n",
      "profession  :  profession\n"
     ]
    }
   ],
   "source": [
    "for w in token1:\n",
    "    print(w,\" : \",lm.lemmatize(w))"
   ]
  },
  {
   "cell_type": "markdown",
   "id": "ef82b847",
   "metadata": {},
   "source": [
    "\n",
    "Term Frequecy=(Number of word occur in document)/document length\n",
    "\n",
    "Inverse Term Fre=log(total Number of Document/in how many document the word has been occur)"
   ]
  },
  {
   "cell_type": "code",
   "execution_count": null,
   "id": "aeb16431",
   "metadata": {},
   "outputs": [],
   "source": []
  }
 ],
 "metadata": {
  "kernelspec": {
   "display_name": "Python 3 (ipykernel)",
   "language": "python",
   "name": "python3"
  },
  "language_info": {
   "codemirror_mode": {
    "name": "ipython",
    "version": 3
   },
   "file_extension": ".py",
   "mimetype": "text/x-python",
   "name": "python",
   "nbconvert_exporter": "python",
   "pygments_lexer": "ipython3",
   "version": "3.10.9"
  }
 },
 "nbformat": 4,
 "nbformat_minor": 5
}
